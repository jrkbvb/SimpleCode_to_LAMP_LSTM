{
 "cells": [
  {
   "cell_type": "code",
   "execution_count": 5,
   "metadata": {},
   "outputs": [],
   "source": [
    "import pyperclip"
   ]
  },
  {
   "cell_type": "code",
   "execution_count": 9,
   "metadata": {},
   "outputs": [],
   "source": [
    "wave_height = [6.5, 7.0, 8.5]\n",
    "period = [13, 15, 17]\n",
    "sea_heading = [115, 135, 155]\n",
    "speed = [4, 8, 12]"
   ]
  },
  {
   "cell_type": "code",
   "execution_count": 12,
   "metadata": {},
   "outputs": [],
   "source": [
    "## For varying primary system (Unimodal Training)\n",
    "\n",
    "sims = \"\"\n",
    "\n",
    "for height in wave_height:\n",
    "    for pd in period:\n",
    "        for heading in sea_heading:\n",
    "            for sp in speed:\n",
    "                sims += f\"_h{height}_p{pd}_a{heading}_hh0_pp0_aa0_s{sp}-0000003\\n\"\n",
    "\n",
    "pyperclip.copy(sims)"
   ]
  },
  {
   "cell_type": "markdown",
   "metadata": {},
   "source": [
    "### Bimodal Experiments\n",
    "- Initially, for use on unimodally trained networks\n",
    "- Vary 2 of the 7 parameters until all pairs are examined\n",
    "    - primary height, period, and heading, secondary height, period, and heading, and ship speed\n",
    "    - 21 pairs in total\n",
    "    - ~ 1,500 -2,000 experiments in total"
   ]
  },
  {
   "cell_type": "code",
   "execution_count": 17,
   "metadata": {},
   "outputs": [],
   "source": [
    "## Default Values if the variables are not being adjusted\n",
    "pri_height = 7.5\n",
    "pri_period = 15\n",
    "pri_angle = 135  # Not so sure about\n",
    "\n",
    "speed = 8\n",
    "\n",
    "sec_height = 3\n",
    "sec_period = 20\n",
    "sec_angle = 270 # Not so sure about"
   ]
  },
  {
   "cell_type": "code",
   "execution_count": 7,
   "metadata": {},
   "outputs": [],
   "source": [
    "## Create a function that will provide all experiements for a set where 2 variables are altered for testing\n",
    "# User must provide variables to vary and bounds/step.  \n",
    "# All others held at default training values (mean for med/wide)\n",
    "\n",
    "def bmod_exp(pri_height = [7.5], pri_period = [15], pri_angle = [135], sec_height = [3], sec_period = [20], sec_angle = [270], speed = [8]):\n",
    "    import pyperclip\n",
    "    sims = ''\n",
    "    for h in pri_height:\n",
    "        for p in pri_period:\n",
    "            for a in pri_angle:\n",
    "                for hh in sec_height:\n",
    "                    for pp in sec_period:\n",
    "                        for aa in sec_angle:\n",
    "                            for s in speed:\n",
    "                                sims += f\"_h{h}_p{p}_a{a}_hh{hh}_pp{pp}_aa{aa}_s{s}-0000001\\n\"\n",
    "    \n",
    "    pyperclip.copy(sims)"
   ]
  },
  {
   "cell_type": "code",
   "execution_count": 8,
   "metadata": {},
   "outputs": [],
   "source": [
    "## Vary Primary Height and Period\n",
    "bmod_exp(pri_height = [5.5, 6, 6.5, 7, 7.5, 8, 8.5, 9, 9.5], pri_period=list(range(11, 20, 1)))"
   ]
  },
  {
   "cell_type": "code",
   "execution_count": 9,
   "metadata": {},
   "outputs": [],
   "source": [
    "## Vary Primary Height and Primary Angle\n",
    "bmod_exp(pri_height = [5.5, 6, 6.5, 7, 7.5, 8, 8.5, 9, 9.5], pri_angle = list(range(0,360,15)))"
   ]
  },
  {
   "cell_type": "code",
   "execution_count": 10,
   "metadata": {},
   "outputs": [],
   "source": [
    "## Vary Primary Height and Secondary Height\n",
    "bmod_exp(pri_height = [5.5, 6, 6.5, 7, 7.5, 8, 8.5, 9, 9.5], sec_height=[1, 1.5, 2, 2.5, 3, 3.5, 4, 4.5, 5, 5.5])"
   ]
  },
  {
   "cell_type": "code",
   "execution_count": 11,
   "metadata": {},
   "outputs": [],
   "source": [
    "## Vary Primary Height and Secondary Period\n",
    "bmod_exp(pri_height = [5.5, 6, 6.5, 7, 7.5, 8, 8.5, 9, 9.5], sec_period=list(range(16, 25, 1)))"
   ]
  },
  {
   "cell_type": "code",
   "execution_count": 12,
   "metadata": {},
   "outputs": [],
   "source": [
    "## Vary Primary Height and Secondary angle\n",
    "bmod_exp(pri_height = [5.5, 6, 6.5, 7, 7.5, 8, 8.5, 9, 9.5], sec_angle=list(range(0, 360, 15)))"
   ]
  },
  {
   "cell_type": "code",
   "execution_count": 13,
   "metadata": {},
   "outputs": [],
   "source": [
    "## Vary Primary Height and Speed\n",
    "bmod_exp(pri_height = [5.5, 6, 6.5, 7, 7.5, 8, 8.5, 9, 9.5], speed=list(range(0, 18, 2)))"
   ]
  },
  {
   "cell_type": "code",
   "execution_count": 14,
   "metadata": {},
   "outputs": [],
   "source": [
    "## Vary Primary period and primary angle\n",
    "bmod_exp(pri_period=list(range(11, 20, 1)), pri_angle = list(range(0,360,15)))"
   ]
  },
  {
   "cell_type": "code",
   "execution_count": 15,
   "metadata": {},
   "outputs": [],
   "source": [
    "## Vary Primary period and secondary height\n",
    "bmod_exp(pri_period=list(range(11, 20, 1)), sec_height = [1, 1.5, 2, 2.5, 3, 3.5, 4, 4.5, 5, 5.5])"
   ]
  },
  {
   "cell_type": "code",
   "execution_count": 18,
   "metadata": {},
   "outputs": [],
   "source": [
    "## Vary Primary period and secondary period\n",
    "bmod_exp(pri_period=list(range(11, 20, 1)), sec_period=list(range(16, 25, 1)))"
   ]
  },
  {
   "cell_type": "code",
   "execution_count": 17,
   "metadata": {},
   "outputs": [],
   "source": [
    "## Vary Primary period and secondary angle\n",
    "bmod_exp(pri_period=list(range(11, 20, 1)), sec_angle=list(range(0, 360, 15)))"
   ]
  },
  {
   "cell_type": "code",
   "execution_count": 19,
   "metadata": {},
   "outputs": [],
   "source": [
    "## Vary Primary period and speed\n",
    "bmod_exp(pri_period=list(range(11, 20, 1)), speed=list(range(0,18,2)))"
   ]
  },
  {
   "cell_type": "code",
   "execution_count": 20,
   "metadata": {},
   "outputs": [],
   "source": [
    "## Vary primary angle and secondary height\n",
    "bmod_exp(pri_angle = list(range(0,360,15)), sec_height = [1, 1.5, 2, 2.5, 3, 3.5, 4, 4.5, 5, 5.5])"
   ]
  },
  {
   "cell_type": "code",
   "execution_count": 21,
   "metadata": {},
   "outputs": [],
   "source": [
    "## Vary primary angle and secondary period\n",
    "bmod_exp(pri_angle = list(range(0,360,15)), sec_period=list(range(16, 25, 1)))"
   ]
  },
  {
   "cell_type": "code",
   "execution_count": null,
   "metadata": {},
   "outputs": [],
   "source": [
    "## Vary primary angle and secondary angle\n",
    "bmod_exp(pri_angle = list(range(0,360,15)), sec_angle=list(range(0, 360, 15)))"
   ]
  },
  {
   "cell_type": "code",
   "execution_count": 22,
   "metadata": {},
   "outputs": [],
   "source": [
    "## Vary primary angle and speed\n",
    "bmod_exp(pri_angle = list(range(0,360,15)), speed=list(range(0,18,2)))"
   ]
  },
  {
   "cell_type": "code",
   "execution_count": 23,
   "metadata": {},
   "outputs": [],
   "source": [
    "## Vary secondary height and secondary period\n",
    "bmod_exp(sec_height = [1, 1.5, 2, 2.5, 3, 3.5, 4, 4.5, 5, 5.5], sec_period=list(range(16, 25, 1)))"
   ]
  },
  {
   "cell_type": "code",
   "execution_count": 24,
   "metadata": {},
   "outputs": [],
   "source": [
    "## Vary secondary height and secondary angle\n",
    "bmod_exp(sec_height = [1, 1.5, 2, 2.5, 3, 3.5, 4, 4.5, 5, 5.5], sec_angle=list(range(0, 360, 15)))"
   ]
  },
  {
   "cell_type": "code",
   "execution_count": 25,
   "metadata": {},
   "outputs": [],
   "source": [
    "## Vary secondary height and secondary speed\n",
    "bmod_exp(sec_height = [1, 1.5, 2, 2.5, 3, 3.5, 4, 4.5, 5, 5.5], speed=list(range(0,18,2)))"
   ]
  },
  {
   "cell_type": "code",
   "execution_count": 26,
   "metadata": {},
   "outputs": [],
   "source": [
    "## Vary secondary period and secondary angle\n",
    "bmod_exp(sec_period=list(range(16, 25, 1)), sec_angle=list(range(0, 360, 15)))"
   ]
  },
  {
   "cell_type": "code",
   "execution_count": 27,
   "metadata": {},
   "outputs": [],
   "source": [
    "## Vary secondary period and  speed\n",
    "bmod_exp(sec_period=list(range(16, 25, 1)), speed=list(range(0,18,2)))"
   ]
  },
  {
   "cell_type": "code",
   "execution_count": 28,
   "metadata": {},
   "outputs": [],
   "source": [
    "## Vary secondary angle and  speed\n",
    "bmod_exp(sec_angle=list(range(0, 360, 15)), speed=list(range(0,18,2)))"
   ]
  },
  {
   "cell_type": "code",
   "execution_count": null,
   "metadata": {},
   "outputs": [],
   "source": []
  }
 ],
 "metadata": {
  "kernelspec": {
   "display_name": "Python 3.10.4 64-bit (windows store)",
   "language": "python",
   "name": "python3"
  },
  "language_info": {
   "codemirror_mode": {
    "name": "ipython",
    "version": 3
   },
   "file_extension": ".py",
   "mimetype": "text/x-python",
   "name": "python",
   "nbconvert_exporter": "python",
   "pygments_lexer": "ipython3",
   "version": "3.10.4"
  },
  "orig_nbformat": 4,
  "vscode": {
   "interpreter": {
    "hash": "b72caa2a3cdfaffca174fbdd56fc7f51788966d450aa37609a4cdf43224ff151"
   }
  }
 },
 "nbformat": 4,
 "nbformat_minor": 2
}
